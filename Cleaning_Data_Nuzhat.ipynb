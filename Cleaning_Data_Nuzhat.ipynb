{
  "cells": [
    {
      "cell_type": "markdown",
      "metadata": {
        "id": "view-in-github",
        "colab_type": "text"
      },
      "source": [
        "<a href=\"https://colab.research.google.com/github/VerFabiola/DATA-MASTER-CHALLLENGE/blob/main/Cleaning_Data_Nuzhat.ipynb\" target=\"_parent\"><img src=\"https://colab.research.google.com/assets/colab-badge.svg\" alt=\"Open In Colab\"/></a>"
      ]
    },
    {
      "cell_type": "code",
      "execution_count": null,
      "id": "8e5af4b5",
      "metadata": {
        "id": "8e5af4b5"
      },
      "outputs": [],
      "source": [
        "\n",
        "import pandas as pd\n",
        "import numpy as np\n",
        "from scipy import stats\n",
        "import matplotlib.pyplot as plt\n",
        "import seaborn as sns\n",
        "from datetime import datetime\n",
        "from sklearn.preprocessing import StandardScaler\n",
        "from sklearn.model_selection import train_test_split\n",
        "from sklearn.linear_model import LinearRegression\n",
        "from sklearn.ensemble import RandomForestRegressor\n",
        "from sklearn.ensemble import GradientBoostingRegressor\n",
        "from sklearn.model_selection import GridSearchCV\n",
        "from sklearn.metrics import mean_absolute_error\n",
        "import matplotlib.pyplot as plt\n",
        "from statsmodels.tsa.seasonal import seasonal_decompose\n",
        "from statsmodels.tsa.statespace.sarimax import SARIMAX\n",
        "from sklearn.metrics import mean_absolute_error, mean_squared_error\n",
        "from sklearn.metrics import mean_squared_error, r2_score\n",
        "\n",
        "\n",
        "from sklearn.impute import SimpleImputer"
      ]
    },
    {
      "cell_type": "code",
      "execution_count": null,
      "id": "f8a31d1e",
      "metadata": {
        "id": "f8a31d1e",
        "outputId": "f577864a-15d1-4737-c9fa-36e1e3230730"
      },
      "outputs": [
        {
          "data": {
            "text/plain": [
              "(17544, 1579)"
            ]
          },
          "execution_count": 2,
          "metadata": {},
          "output_type": "execute_result"
        }
      ],
      "source": [
        "df_electricity = pd.read_csv('electricity.csv',parse_dates=['timestamp'])\n",
        "\n",
        "\n",
        "#df_electricity.head()\n",
        "df_electricity.shape"
      ]
    },
    {
      "cell_type": "markdown",
      "source": [
        "#DATA CLEANING\n",
        "- Removing columns whose missing values represent more than 100%\n",
        "- Adding columns : 'Building type', 'person_name', 'animal(building location)'\n",
        "- Grouping building in the same location and type together"
      ],
      "metadata": {
        "id": "_oTbN-Ph50_s"
      },
      "id": "_oTbN-Ph50_s"
    },
    {
      "cell_type": "code",
      "execution_count": null,
      "id": "ed03b576",
      "metadata": {
        "id": "ed03b576",
        "outputId": "5fa28de8-8675-4a24-f180-81ffa4263996"
      },
      "outputs": [
        {
          "name": "stdout",
          "output_type": "stream",
          "text": [
            "Columns with all missing values: ['Rat_public_Ulysses', 'Eagle_lodging_Garland']\n"
          ]
        }
      ],
      "source": [
        "# Find columns where all values are missing\n",
        "fully_missing_cols = df_electricity.columns[df_electricity.isnull().all()].tolist()\n",
        "\n",
        "print(\"Columns with all missing values:\", fully_missing_cols)"
      ]
    },
    {
      "cell_type": "code",
      "execution_count": null,
      "id": "072e85e8",
      "metadata": {
        "id": "072e85e8",
        "outputId": "535608be-140a-4300-8f77-0724ca90cb10"
      },
      "outputs": [
        {
          "name": "stdout",
          "output_type": "stream",
          "text": [
            "Index(['timestamp', 'Panther_parking_Lorriane', 'Panther_lodging_Cora',\n",
            "       'Panther_office_Hannah', 'Panther_lodging_Hattie',\n",
            "       'Panther_education_Teofila', 'Panther_education_Jerome',\n",
            "       'Panther_retail_Felix', 'Panther_parking_Asia',\n",
            "       'Panther_education_Misty',\n",
            "       ...\n",
            "       'Cockatoo_public_Caleb', 'Cockatoo_education_Tyler',\n",
            "       'Cockatoo_public_Shad', 'Mouse_health_Buddy', 'Mouse_health_Modesto',\n",
            "       'Mouse_lodging_Vicente', 'Mouse_health_Justin', 'Mouse_health_Ileana',\n",
            "       'Mouse_health_Estela', 'Mouse_science_Micheal'],\n",
            "      dtype='object', length=1579)\n"
          ]
        }
      ],
      "source": [
        "print(df_electricity.columns)"
      ]
    },
    {
      "cell_type": "code",
      "execution_count": null,
      "id": "f267e986",
      "metadata": {
        "id": "f267e986",
        "outputId": "4d7a5a5c-1b76-4b84-c66d-6196d92185eb"
      },
      "outputs": [
        {
          "name": "stdout",
          "output_type": "stream",
          "text": [
            "                   full_name   animal building_type person_name\n",
            "0   Panther_parking_Lorriane  Panther       parking    Lorriane\n",
            "1       Panther_lodging_Cora  Panther       lodging        Cora\n",
            "2      Panther_office_Hannah  Panther        office      Hannah\n",
            "3     Panther_lodging_Hattie  Panther       lodging      Hattie\n",
            "4  Panther_education_Teofila  Panther     education     Teofila\n"
          ]
        }
      ],
      "source": [
        "building_columns = [col for col in df_electricity.columns if col != 'timestamp']\n",
        "\n",
        "# Make the buildings DataFrame\n",
        "buildings = pd.DataFrame(building_columns, columns=['full_name'])\n",
        "\n",
        "# Split the building name\n",
        "buildings[['animal', 'building_type', 'person_name']] = buildings['full_name'].str.split('_', expand=True)\n",
        "\n",
        "print(buildings.head())"
      ]
    },
    {
      "cell_type": "code",
      "execution_count": null,
      "id": "6327e375",
      "metadata": {
        "id": "6327e375"
      },
      "outputs": [],
      "source": [
        "# Group by building_type and save\n",
        "for building_type in buildings['building_type'].unique():\n",
        "\n",
        "    # Get the building columns for this building_type\n",
        "    cols = buildings[buildings['building_type'] == building_type]['full_name'].tolist()\n",
        "\n",
        "    # Include timestamp\n",
        "    cols = ['timestamp'] + cols\n",
        "\n",
        "    # Subset the main dataframe\n",
        "    subset = df_electricity[cols]\n",
        "\n",
        "    #print(f'\\n=== Building Type: {building_type} ===')\n",
        "    #print(f'Columns: {cols}')\n",
        "    #print(subset.head())"
      ]
    },
    {
      "cell_type": "code",
      "execution_count": null,
      "id": "c97cbe53",
      "metadata": {
        "collapsed": true,
        "id": "c97cbe53",
        "outputId": "d5e31dec-1bc1-44a7-f0b7-cc4512133c18"
      },
      "outputs": [
        {
          "name": "stdout",
          "output_type": "stream",
          "text": [
            "\n",
            "Missing Values in parking:\n",
            "timestamp                    0.000000\n",
            "Panther_parking_Lorriane     0.062699\n",
            "Panther_parking_Asia         0.062699\n",
            "Panther_parking_Alaina       0.068399\n",
            "Panther_parking_Mellissa     0.062699\n",
            "Panther_parking_Charlene     0.068399\n",
            "Panther_parking_Stanley      0.068399\n",
            "Panther_parking_Adela        0.062699\n",
            "Panther_parking_Jody         0.262198\n",
            "Fox_parking_Tommie           0.017100\n",
            "Fox_parking_Lynelle          0.011400\n",
            "Fox_parking_Felipa           0.011400\n",
            "Rat_parking_Ronnie           0.296398\n",
            "Bear_parking_Bridget        33.048336\n",
            "Bear_parking_Bruce           0.752394\n",
            "Bear_parking_Gordon          0.256498\n",
            "Hog_parking_Antoinette       0.000000\n",
            "Hog_parking_Joan             0.182399\n",
            "Hog_parking_Marcus           0.017100\n",
            "Hog_parking_Bernardo         0.005700\n",
            "Hog_parking_Jean             0.000000\n",
            "Hog_parking_Cliff            0.222298\n",
            "Hog_parking_Jeana            0.005700\n",
            "Hog_parking_Shannon          0.000000\n",
            "dtype: float64\n",
            "\n",
            "Missing Values in lodging:\n",
            "timestamp                      0.000000\n",
            "Panther_lodging_Cora           0.062699\n",
            "Panther_lodging_Hattie         0.068399\n",
            "Panther_lodging_Blaine         0.068399\n",
            "Panther_lodging_Jorge          0.062699\n",
            "                                ...    \n",
            "Cockatoo_lodging_Raphael       8.122435\n",
            "Cockatoo_lodging_Kerri        18.342453\n",
            "Cockatoo_lodging_Homer         8.122435\n",
            "Cockatoo_lodging_Josephine     8.168035\n",
            "Mouse_lodging_Vicente          0.000000\n",
            "Length: 150, dtype: float64\n",
            "\n",
            "Missing Values in office:\n",
            "timestamp                    0.000000\n",
            "Panther_office_Hannah        0.068399\n",
            "Panther_office_Catherine     0.068399\n",
            "Panther_office_Patti         0.068399\n",
            "Panther_office_Lauretta      0.062699\n",
            "                              ...    \n",
            "Cockatoo_office_Jodie        8.156635\n",
            "Cockatoo_office_Giovanni     8.304834\n",
            "Cockatoo_office_Roxanna      8.259234\n",
            "Cockatoo_office_Christy      8.162335\n",
            "Cockatoo_office_Ada         21.631327\n",
            "Length: 297, dtype: float64\n",
            "\n",
            "Missing Values in education:\n",
            "timestamp                    0.000000\n",
            "Panther_education_Teofila    0.062699\n",
            "Panther_education_Jerome     0.057000\n",
            "Panther_education_Misty      0.113999\n",
            "Panther_education_Tina       0.057000\n",
            "                               ...   \n",
            "Cockatoo_education_Marva     8.122435\n",
            "Cockatoo_education_June      8.185135\n",
            "Cockatoo_education_Lionel    8.857729\n",
            "Cockatoo_education_Amira     9.308026\n",
            "Cockatoo_education_Tyler     8.139535\n",
            "Length: 605, dtype: float64\n",
            "\n",
            "Missing Values in retail:\n",
            "timestamp                  0.000000\n",
            "Panther_retail_Felix       0.062699\n",
            "Panther_retail_Gilbert     0.068399\n",
            "Panther_retail_Romeo       0.057000\n",
            "Panther_retail_Rachel      0.068399\n",
            "Panther_retail_Kristina    0.062699\n",
            "Panther_retail_Lester      0.062699\n",
            "Fox_retail_Manie           0.011400\n",
            "Rat_retail_Jeffrey         0.153899\n",
            "Wolf_retail_Toshia         0.005700\n",
            "Wolf_retail_Marcella       0.005700\n",
            "Wolf_retail_Harriett       0.017100\n",
            "dtype: float64\n",
            "\n",
            "Missing Values in assembly:\n",
            "timestamp                     0.000000\n",
            "Panther_assembly_Pamella      0.068399\n",
            "Panther_assembly_Carrol       0.062699\n",
            "Panther_assembly_David        2.091883\n",
            "Panther_assembly_Denice       0.062699\n",
            "                               ...    \n",
            "Cockatoo_assembly_Evelyn      8.441632\n",
            "Cockatoo_assembly_Tabitha     8.156635\n",
            "Cockatoo_assembly_Ralph      38.765390\n",
            "Cockatoo_assembly_Doyle       8.145235\n",
            "Cockatoo_assembly_Pierre      8.145235\n",
            "Length: 204, dtype: float64\n",
            "\n",
            "Missing Values in other:\n",
            "timestamp                 0.000000\n",
            "Panther_other_Bethel      0.068399\n",
            "Panther_other_Bettie      0.068399\n",
            "Panther_other_Lucina      1.476288\n",
            "Panther_other_Lula        0.068399\n",
            "Panther_other_Tyrone      8.122435\n",
            "Rat_other_Al              0.296398\n",
            "Rat_other_Daphne          0.398997\n",
            "Rat_other_Lan             0.290698\n",
            "Rat_other_Hazel           0.302098\n",
            "Lamb_other_Katharina      0.000000\n",
            "Lamb_other_Minerva        0.000000\n",
            "Gator_other_Reginald      7.945736\n",
            "Gator_other_Cassandra     3.978568\n",
            "Gator_other_Glen          8.071135\n",
            "Gator_other_Minda         8.903329\n",
            "Gator_other_Elfriede      3.704970\n",
            "Gator_other_Russel       11.491108\n",
            "Gator_other_Samuel       44.009348\n",
            "Gator_other_Gertrude      3.431373\n",
            "Gator_other_Refugio       7.256042\n",
            "Bobcat_other_Jovita       7.067943\n",
            "Bobcat_other_Howard       7.381441\n",
            "Bobcat_other_Timothy      0.142499\n",
            "Hog_other_Noma            0.000000\n",
            "Hog_other_Tobias          0.000000\n",
            "Hog_other_Lynette         0.000000\n",
            "dtype: float64\n",
            "\n",
            "Missing Values in public:\n",
            "timestamp                  0.000000\n",
            "Robin_public_Carolina      0.000000\n",
            "Robin_public_Cami          0.000000\n",
            "Fox_public_Bart            0.011400\n",
            "Fox_public_Denny           0.034200\n",
            "                             ...   \n",
            "Cockatoo_public_Valerie    8.122435\n",
            "Cockatoo_public_Leah       8.122435\n",
            "Cockatoo_public_Harland    8.190834\n",
            "Cockatoo_public_Caleb      8.173735\n",
            "Cockatoo_public_Shad       8.156635\n",
            "Length: 167, dtype: float64\n",
            "\n",
            "Missing Values in warehouse:\n",
            "timestamp                    0.000000\n",
            "Fox_warehouse_Pearl          0.461696\n",
            "Fox_warehouse_Lorretta       0.370497\n",
            "Rat_warehouse_Maegan         4.810762\n",
            "Rat_warehouse_Doretta        0.153899\n",
            "Rat_warehouse_Shari          0.569995\n",
            "Rat_warehouse_Breanna        0.433197\n",
            "Rat_warehouse_Eloisa         0.159599\n",
            "Lamb_warehouse_Allan         0.000000\n",
            "Gator_warehouse_Constance    3.978568\n",
            "Gator_warehouse_Stacie       7.398541\n",
            "Bobcat_warehouse_Charlie     6.908345\n",
            "Hog_warehouse_Louise         0.000000\n",
            "Hog_warehouse_Porsha         0.000000\n",
            "Hog_warehouse_Rosanna        0.826493\n",
            "dtype: float64\n",
            "\n",
            "Missing Values in food:\n",
            "timestamp              0.000000\n",
            "Fox_food_Scott         0.005700\n",
            "Fox_food_Francesco     0.017100\n",
            "Lamb_food_Sylvia       0.000000\n",
            "Hog_food_Morgan        0.000000\n",
            "Eagle_food_Jennifer    0.564295\n",
            "Eagle_food_Kay         0.000000\n",
            "dtype: float64\n",
            "\n",
            "Missing Values in utility:\n",
            "timestamp                   0.000000\n",
            "Fox_utility_Marian          0.005700\n",
            "Bear_utility_Sidney         0.416097\n",
            "Cockatoo_utility_Kimiko    17.248062\n",
            "Cockatoo_utility_Sherri     8.145235\n",
            "dtype: float64\n",
            "\n",
            "Missing Values in health:\n",
            "timestamp                 0.000000\n",
            "Fox_health_Lorena         0.125399\n",
            "Rat_health_Mildred        0.313497\n",
            "Rat_health_Ann           61.154811\n",
            "Rat_health_Gaye           0.427497\n",
            "Rat_health_Tanya          0.159599\n",
            "Rat_health_Rosaria        0.296398\n",
            "Rat_health_Guy            0.968992\n",
            "Rat_health_Shane          1.293890\n",
            "Lamb_health_Ken           0.000000\n",
            "Hog_health_Kesha          0.034200\n",
            "Hog_health_Hisako         0.022800\n",
            "Hog_health_Jenny          0.039900\n",
            "Eagle_health_Athena       0.005700\n",
            "Eagle_health_Margo        0.000000\n",
            "Eagle_health_Reba         0.000000\n",
            "Eagle_health_Gregoria     0.000000\n",
            "Eagle_health_Lucinda      0.005700\n",
            "Eagle_health_Vincenza     0.000000\n",
            "Eagle_health_Trisha       0.000000\n",
            "Eagle_health_Jodi         0.000000\n",
            "Eagle_health_Amy          0.000000\n",
            "Eagle_health_Reuben       0.005700\n",
            "Mouse_health_Buddy        0.347697\n",
            "Mouse_health_Modesto      0.022800\n",
            "Mouse_health_Justin       0.000000\n",
            "Mouse_health_Ileana       0.940492\n",
            "Mouse_health_Estela       0.000000\n",
            "dtype: float64\n",
            "\n",
            "Missing Values in religion:\n",
            "timestamp                   0.000000\n",
            "Fox_religion_Maurice        0.017100\n",
            "Rat_religion_Kathy          0.296398\n",
            "Cockatoo_religion_Diedre    8.122435\n",
            "dtype: float64\n",
            "\n",
            "Missing Values in science:\n",
            "timestamp                 0.000000\n",
            "Bear_science_Alison       0.193798\n",
            "Bear_science_Eleanor      0.353397\n",
            "Bobcat_science_Tammy     61.764706\n",
            "Wolf_science_Alfreda      0.034200\n",
            "Hog_science_Max           0.000000\n",
            "Cockatoo_science_Rex      8.133835\n",
            "Mouse_science_Micheal     0.000000\n",
            "dtype: float64\n",
            "\n",
            "Missing Values in industrial:\n",
            "timestamp                        0.000000\n",
            "Lamb_industrial_Willard          0.000000\n",
            "Lamb_industrial_Enrique          0.000000\n",
            "Lamb_industrial_Carla            0.000000\n",
            "Lamb_industrial_Venessa          0.000000\n",
            "Hog_industrial_Quentin           0.000000\n",
            "Hog_industrial_Mariah            0.000000\n",
            "Hog_industrial_Jeremy            0.000000\n",
            "Hog_industrial_Jay               0.000000\n",
            "Hog_industrial_Joanne            0.000000\n",
            "Cockatoo_industrial_Sarita       8.122435\n",
            "Cockatoo_industrial_Nathaniel    8.555632\n",
            "dtype: float64\n",
            "\n",
            "Missing Values in services:\n",
            "timestamp                  0.000000\n",
            "Bull_services_Juanita      0.165299\n",
            "Bull_services_Winford      0.142499\n",
            "Bull_services_Jeanmarie    0.165299\n",
            "Bull_services_Rachelle     0.148199\n",
            "Bull_services_Nadine       0.148199\n",
            "Hog_services_Adrianna      0.000000\n",
            "Hog_services_Marshall      0.034200\n",
            "Hog_services_Joe           0.022800\n",
            "Hog_services_Kerrie        0.000000\n",
            "dtype: float64\n",
            "\n",
            "Missing Values in unknown:\n",
            "timestamp                   0.000000\n",
            "Swan_unknown_Rocco         50.096899\n",
            "Swan_unknown_Bette         50.125399\n",
            "Swan_unknown_Allison       50.159599\n",
            "Swan_unknown_Christoper    50.142499\n",
            "Swan_unknown_Jerold        50.102599\n",
            "Swan_unknown_Valeria       50.131099\n",
            "Swan_unknown_Isaiah        50.113999\n",
            "Swan_unknown_Esteban       50.131099\n",
            "Swan_unknown_Wendy         50.125399\n",
            "Swan_unknown_Douglas       50.119699\n",
            "Swan_unknown_Rudy          50.125399\n",
            "Swan_unknown_Noelia        50.136799\n",
            "Swan_unknown_Raquel        50.125399\n",
            "Swan_unknown_Tom           50.131099\n",
            "Swan_unknown_Ike           50.119699\n",
            "Swan_unknown_Reyna         50.131099\n",
            "Swan_unknown_Andres        50.250798\n",
            "Swan_unknown_Fabian        50.142499\n",
            "Swan_unknown_Jan           50.113999\n",
            "dtype: float64\n"
          ]
        }
      ],
      "source": [
        "# Check missing values for each building type\n",
        "missing_summary = {}\n",
        "\n",
        "for building_type in buildings['building_type'].unique():\n",
        "    # Get columns for this building_type\n",
        "    cols = buildings[buildings['building_type'] == building_type]['full_name'].tolist()\n",
        "\n",
        "    # Subset the dataframe\n",
        "    subset = df_electricity[['timestamp'] + cols]\n",
        "\n",
        "    # Calculate missing value %\n",
        "    missing_percent = subset.isnull().mean() * 100\n",
        "\n",
        "    # Save to dictionary\n",
        "    missing_summary[building_type] = missing_percent\n",
        "\n",
        "# Print missing value summaries\n",
        "for building_type, missing in missing_summary.items():\n",
        "    print(f'\\nMissing Values in {building_type}:')\n",
        "    print(missing)"
      ]
    },
    {
      "cell_type": "code",
      "execution_count": null,
      "id": "7431abc5",
      "metadata": {
        "id": "7431abc5",
        "outputId": "2dd23038-352c-421f-8baa-78e2f15bafe3"
      },
      "outputs": [
        {
          "data": {
            "text/html": [
              "<div>\n",
              "<style scoped>\n",
              "    .dataframe tbody tr th:only-of-type {\n",
              "        vertical-align: middle;\n",
              "    }\n",
              "\n",
              "    .dataframe tbody tr th {\n",
              "        vertical-align: top;\n",
              "    }\n",
              "\n",
              "    .dataframe thead th {\n",
              "        text-align: right;\n",
              "    }\n",
              "</style>\n",
              "<table border=\"1\" class=\"dataframe\">\n",
              "  <thead>\n",
              "    <tr style=\"text-align: right;\">\n",
              "      <th></th>\n",
              "      <th>parking</th>\n",
              "      <th>lodging</th>\n",
              "      <th>office</th>\n",
              "      <th>education</th>\n",
              "      <th>retail</th>\n",
              "      <th>assembly</th>\n",
              "      <th>other</th>\n",
              "      <th>public</th>\n",
              "      <th>warehouse</th>\n",
              "      <th>food</th>\n",
              "      <th>utility</th>\n",
              "      <th>health</th>\n",
              "      <th>religion</th>\n",
              "      <th>science</th>\n",
              "      <th>industrial</th>\n",
              "      <th>services</th>\n",
              "      <th>unknown</th>\n",
              "    </tr>\n",
              "  </thead>\n",
              "  <tbody>\n",
              "    <tr>\n",
              "      <th>Bear_assembly_Angel</th>\n",
              "      <td>NaN</td>\n",
              "      <td>NaN</td>\n",
              "      <td>NaN</td>\n",
              "      <td>NaN</td>\n",
              "      <td>NaN</td>\n",
              "      <td>17.721158</td>\n",
              "      <td>NaN</td>\n",
              "      <td>NaN</td>\n",
              "      <td>NaN</td>\n",
              "      <td>NaN</td>\n",
              "      <td>NaN</td>\n",
              "      <td>NaN</td>\n",
              "      <td>NaN</td>\n",
              "      <td>NaN</td>\n",
              "      <td>NaN</td>\n",
              "      <td>NaN</td>\n",
              "      <td>NaN</td>\n",
              "    </tr>\n",
              "    <tr>\n",
              "      <th>Bear_assembly_Beatrice</th>\n",
              "      <td>NaN</td>\n",
              "      <td>NaN</td>\n",
              "      <td>NaN</td>\n",
              "      <td>NaN</td>\n",
              "      <td>NaN</td>\n",
              "      <td>0.222298</td>\n",
              "      <td>NaN</td>\n",
              "      <td>NaN</td>\n",
              "      <td>NaN</td>\n",
              "      <td>NaN</td>\n",
              "      <td>NaN</td>\n",
              "      <td>NaN</td>\n",
              "      <td>NaN</td>\n",
              "      <td>NaN</td>\n",
              "      <td>NaN</td>\n",
              "      <td>NaN</td>\n",
              "      <td>NaN</td>\n",
              "    </tr>\n",
              "    <tr>\n",
              "      <th>Bear_assembly_Danial</th>\n",
              "      <td>NaN</td>\n",
              "      <td>NaN</td>\n",
              "      <td>NaN</td>\n",
              "      <td>NaN</td>\n",
              "      <td>NaN</td>\n",
              "      <td>30.534656</td>\n",
              "      <td>NaN</td>\n",
              "      <td>NaN</td>\n",
              "      <td>NaN</td>\n",
              "      <td>NaN</td>\n",
              "      <td>NaN</td>\n",
              "      <td>NaN</td>\n",
              "      <td>NaN</td>\n",
              "      <td>NaN</td>\n",
              "      <td>NaN</td>\n",
              "      <td>NaN</td>\n",
              "      <td>NaN</td>\n",
              "    </tr>\n",
              "    <tr>\n",
              "      <th>Bear_assembly_Diana</th>\n",
              "      <td>NaN</td>\n",
              "      <td>NaN</td>\n",
              "      <td>NaN</td>\n",
              "      <td>NaN</td>\n",
              "      <td>NaN</td>\n",
              "      <td>12.904697</td>\n",
              "      <td>NaN</td>\n",
              "      <td>NaN</td>\n",
              "      <td>NaN</td>\n",
              "      <td>NaN</td>\n",
              "      <td>NaN</td>\n",
              "      <td>NaN</td>\n",
              "      <td>NaN</td>\n",
              "      <td>NaN</td>\n",
              "      <td>NaN</td>\n",
              "      <td>NaN</td>\n",
              "      <td>NaN</td>\n",
              "    </tr>\n",
              "    <tr>\n",
              "      <th>Bear_assembly_Genia</th>\n",
              "      <td>NaN</td>\n",
              "      <td>NaN</td>\n",
              "      <td>NaN</td>\n",
              "      <td>NaN</td>\n",
              "      <td>NaN</td>\n",
              "      <td>0.951892</td>\n",
              "      <td>NaN</td>\n",
              "      <td>NaN</td>\n",
              "      <td>NaN</td>\n",
              "      <td>NaN</td>\n",
              "      <td>NaN</td>\n",
              "      <td>NaN</td>\n",
              "      <td>NaN</td>\n",
              "      <td>NaN</td>\n",
              "      <td>NaN</td>\n",
              "      <td>NaN</td>\n",
              "      <td>NaN</td>\n",
              "    </tr>\n",
              "  </tbody>\n",
              "</table>\n",
              "</div>"
            ],
            "text/plain": [
              "                        parking  lodging  office  education  retail  \\\n",
              "Bear_assembly_Angel         NaN      NaN     NaN        NaN     NaN   \n",
              "Bear_assembly_Beatrice      NaN      NaN     NaN        NaN     NaN   \n",
              "Bear_assembly_Danial        NaN      NaN     NaN        NaN     NaN   \n",
              "Bear_assembly_Diana         NaN      NaN     NaN        NaN     NaN   \n",
              "Bear_assembly_Genia         NaN      NaN     NaN        NaN     NaN   \n",
              "\n",
              "                         assembly  other  public  warehouse  food  utility  \\\n",
              "Bear_assembly_Angel     17.721158    NaN     NaN        NaN   NaN      NaN   \n",
              "Bear_assembly_Beatrice   0.222298    NaN     NaN        NaN   NaN      NaN   \n",
              "Bear_assembly_Danial    30.534656    NaN     NaN        NaN   NaN      NaN   \n",
              "Bear_assembly_Diana     12.904697    NaN     NaN        NaN   NaN      NaN   \n",
              "Bear_assembly_Genia      0.951892    NaN     NaN        NaN   NaN      NaN   \n",
              "\n",
              "                        health  religion  science  industrial  services  \\\n",
              "Bear_assembly_Angel        NaN       NaN      NaN         NaN       NaN   \n",
              "Bear_assembly_Beatrice     NaN       NaN      NaN         NaN       NaN   \n",
              "Bear_assembly_Danial       NaN       NaN      NaN         NaN       NaN   \n",
              "Bear_assembly_Diana        NaN       NaN      NaN         NaN       NaN   \n",
              "Bear_assembly_Genia        NaN       NaN      NaN         NaN       NaN   \n",
              "\n",
              "                        unknown  \n",
              "Bear_assembly_Angel         NaN  \n",
              "Bear_assembly_Beatrice      NaN  \n",
              "Bear_assembly_Danial        NaN  \n",
              "Bear_assembly_Diana         NaN  \n",
              "Bear_assembly_Genia         NaN  "
            ]
          },
          "execution_count": 8,
          "metadata": {},
          "output_type": "execute_result"
        }
      ],
      "source": [
        "missing_df = pd.DataFrame(missing_summary)\n",
        "missing_df.head()"
      ]
    },
    {
      "cell_type": "code",
      "execution_count": null,
      "id": "9cb3525b",
      "metadata": {
        "id": "9cb3525b",
        "outputId": "94443c87-9e66-460f-98d5-43c74abaef59"
      },
      "outputs": [
        {
          "data": {
            "image/png": "[encoded data removed]",
            "text/plain": [
              "<Figure size 1008x576 with 1 Axes>"
            ]
          },
          "metadata": {
            "needs_background": "light"
          },
          "output_type": "display_data"
        }
      ],
      "source": [
        "# Convert missing_summary into a DataFrame\n",
        "missing_df = pd.DataFrame(missing_summary)\n",
        "\n",
        "# 3. Transpose so that building_type are rows\n",
        "missing_df = missing_df.T\n",
        "\n",
        "# 4. Plot the heatmap\n",
        "plt.figure(figsize=(14, 8))\n",
        "#sns.heatmap(missing_df, cmap='coolwarm', cbar_kws={'label': '% Missing'}, linewidths=0.5)\n",
        "sns.heatmap(missing_df, cbar=False, cbar_kws={'label': '% Missing'})\n",
        "plt.title('Heatmap of Missing Values by Building Type')\n",
        "plt.xlabel('Building Name')\n",
        "plt.ylabel('Building Type')\n",
        "plt.xticks(rotation=90)\n",
        "plt.yticks(rotation=0)\n",
        "plt.tight_layout()\n",
        "plt.show()"
      ]
    },
    {
      "cell_type": "code",
      "execution_count": null,
      "id": "fa52d4ee",
      "metadata": {
        "id": "fa52d4ee",
        "outputId": "e4952141-b183-4e31-e304-07578b2a1871"
      },
      "outputs": [
        {
          "data": {
            "text/html": [
              "<div>\n",
              "<style scoped>\n",
              "    .dataframe tbody tr th:only-of-type {\n",
              "        vertical-align: middle;\n",
              "    }\n",
              "\n",
              "    .dataframe tbody tr th {\n",
              "        vertical-align: top;\n",
              "    }\n",
              "\n",
              "    .dataframe thead th {\n",
              "        text-align: right;\n",
              "    }\n",
              "</style>\n",
              "<table border=\"1\" class=\"dataframe\">\n",
              "  <thead>\n",
              "    <tr style=\"text-align: right;\">\n",
              "      <th></th>\n",
              "      <th>timestamp</th>\n",
              "      <th>hour</th>\n",
              "      <th>dayofweek</th>\n",
              "      <th>season</th>\n",
              "      <th>subgroup</th>\n",
              "      <th>maingroup</th>\n",
              "      <th>avg_electricity</th>\n",
              "    </tr>\n",
              "  </thead>\n",
              "  <tbody>\n",
              "    <tr>\n",
              "      <th>0</th>\n",
              "      <td>2016-01-01 00:00:00</td>\n",
              "      <td>0</td>\n",
              "      <td>4</td>\n",
              "      <td>winter</td>\n",
              "      <td>parking_Bear</td>\n",
              "      <td>parking</td>\n",
              "      <td>0.383481</td>\n",
              "    </tr>\n",
              "    <tr>\n",
              "      <th>1</th>\n",
              "      <td>2016-01-01 01:00:00</td>\n",
              "      <td>1</td>\n",
              "      <td>4</td>\n",
              "      <td>winter</td>\n",
              "      <td>parking_Bear</td>\n",
              "      <td>parking</td>\n",
              "      <td>0.477194</td>\n",
              "    </tr>\n",
              "    <tr>\n",
              "      <th>2</th>\n",
              "      <td>2016-01-01 02:00:00</td>\n",
              "      <td>2</td>\n",
              "      <td>4</td>\n",
              "      <td>winter</td>\n",
              "      <td>parking_Bear</td>\n",
              "      <td>parking</td>\n",
              "      <td>0.517381</td>\n",
              "    </tr>\n",
              "    <tr>\n",
              "      <th>3</th>\n",
              "      <td>2016-01-01 03:00:00</td>\n",
              "      <td>3</td>\n",
              "      <td>4</td>\n",
              "      <td>winter</td>\n",
              "      <td>parking_Bear</td>\n",
              "      <td>parking</td>\n",
              "      <td>0.448333</td>\n",
              "    </tr>\n",
              "    <tr>\n",
              "      <th>4</th>\n",
              "      <td>2016-01-01 04:00:00</td>\n",
              "      <td>4</td>\n",
              "      <td>4</td>\n",
              "      <td>winter</td>\n",
              "      <td>parking_Bear</td>\n",
              "      <td>parking</td>\n",
              "      <td>0.329818</td>\n",
              "    </tr>\n",
              "  </tbody>\n",
              "</table>\n",
              "</div>"
            ],
            "text/plain": [
              "            timestamp  hour  dayofweek  season      subgroup maingroup  \\\n",
              "0 2016-01-01 00:00:00     0          4  winter  parking_Bear   parking   \n",
              "1 2016-01-01 01:00:00     1          4  winter  parking_Bear   parking   \n",
              "2 2016-01-01 02:00:00     2          4  winter  parking_Bear   parking   \n",
              "3 2016-01-01 03:00:00     3          4  winter  parking_Bear   parking   \n",
              "4 2016-01-01 04:00:00     4          4  winter  parking_Bear   parking   \n",
              "\n",
              "   avg_electricity  \n",
              "0         0.383481  \n",
              "1         0.477194  \n",
              "2         0.517381  \n",
              "3         0.448333  \n",
              "4         0.329818  "
            ]
          },
          "execution_count": 10,
          "metadata": {},
          "output_type": "execute_result"
        }
      ],
      "source": [
        "# Load dataset\n",
        "#df_electricity = pd.read_csv('electricity.csv',na_values=['unknown'])\n",
        "df = pd.read_csv('model_ready_energy_data.csv',parse_dates=['timestamp'])\n",
        "\n",
        "\n",
        "df.head()\n",
        "#df.shape\n",
        "\n",
        "#print(df_electricity.info())"
      ]
    },
    {
      "cell_type": "code",
      "execution_count": null,
      "id": "711aa760",
      "metadata": {
        "collapsed": true,
        "id": "711aa760",
        "outputId": "2ed1860a-3225-4ab3-9b5d-ccaaa9210380"
      },
      "outputs": [
        {
          "data": {
            "text/plain": [
              "timestamp              0\n",
              "hour                   0\n",
              "dayofweek              0\n",
              "season                 0\n",
              "subgroup               0\n",
              "maingroup              0\n",
              "avg_electricity    54749\n",
              "dtype: int64"
            ]
          },
          "execution_count": 11,
          "metadata": {},
          "output_type": "execute_result"
        }
      ],
      "source": [
        "df.isnull().sum()"
      ]
    },
    {
      "cell_type": "code",
      "execution_count": null,
      "id": "90d45048",
      "metadata": {
        "id": "90d45048",
        "outputId": "24d7fccd-a0e0-4277-87e6-b418928643b1"
      },
      "outputs": [
        {
          "data": {
            "text/plain": [
              "<Axes: >"
            ]
          },
          "execution_count": 12,
          "metadata": {},
          "output_type": "execute_result"
        },
        {
          "data": {
            "image/png": "[encoded data removed]",
            "text/plain": [
              "<Figure size 432x288 with 1 Axes>"
            ]
          },
          "metadata": {},
          "output_type": "display_data"
        }
      ],
      "source": [
        "import matplotlib.pyplot as plt\n",
        "import seaborn as sns\n",
        "sns.set()\n",
        "sns.heatmap(df.isnull(), cbar=False)"
      ]
    },
    {
      "cell_type": "markdown",
      "source": [
        "#FILLING MISSING AVERAGE ELCTRICITY VALUES USING KNN\n"
      ],
      "metadata": {
        "id": "I6rGxQ-Q6EuR"
      },
      "id": "I6rGxQ-Q6EuR"
    },
    {
      "cell_type": "code",
      "execution_count": null,
      "id": "98f23bce",
      "metadata": {
        "collapsed": true,
        "id": "98f23bce",
        "outputId": "20206bb6-9cc5-479a-e7fa-51696cbf855a"
      },
      "outputs": [
        {
          "name": "stdout",
          "output_type": "stream",
          "text": [
            "                  timestamp  hour  dayofweek  season      subgroup maingroup  \\\n",
            "0       2016-01-01 00:00:00     0          4  winter  parking_Bear   parking   \n",
            "1       2016-01-01 01:00:00     1          4  winter  parking_Bear   parking   \n",
            "2       2016-01-01 02:00:00     2          4  winter  parking_Bear   parking   \n",
            "3       2016-01-01 03:00:00     3          4  winter  parking_Bear   parking   \n",
            "4       2016-01-01 04:00:00     4          4  winter  parking_Bear   parking   \n",
            "...                     ...   ...        ...     ...           ...       ...   \n",
            "2070187 2017-12-31 19:00:00    19          6  winter  unknown_Swan   unknown   \n",
            "2070188 2017-12-31 20:00:00    20          6  winter  unknown_Swan   unknown   \n",
            "2070189 2017-12-31 21:00:00    21          6  winter  unknown_Swan   unknown   \n",
            "2070190 2017-12-31 22:00:00    22          6  winter  unknown_Swan   unknown   \n",
            "2070191 2017-12-31 23:00:00    23          6  winter  unknown_Swan   unknown   \n",
            "\n",
            "         avg_electricity  \n",
            "0               0.383481  \n",
            "1               0.477194  \n",
            "2               0.517381  \n",
            "3               0.448333  \n",
            "4               0.329818  \n",
            "...                  ...  \n",
            "2070187        -0.545196  \n",
            "2070188        -0.578852  \n",
            "2070189        -0.588053  \n",
            "2070190        -0.633799  \n",
            "2070191        -0.661481  \n",
            "\n",
            "[2070192 rows x 7 columns]\n"
          ]
        }
      ],
      "source": [
        "from sklearn.impute import KNNImputer\n",
        "# Initialize KNNImputer with 5 neighbors\n",
        "knn_imputer = KNNImputer(n_neighbors=5)\n",
        "\n",
        "# Apply KNN imputation only on the 'avg_electricity' column\n",
        "df_imputed = df.copy()  # Make a copy to avoid modifying original DataFrame\n",
        "df_imputed[['avg_electricity']] = knn_imputer.fit_transform(df[['avg_electricity']])\n",
        "\n",
        "\n",
        "# Display the imputed dataframe\n",
        "print(df_imputed)\n"
      ]
    },
    {
      "cell_type": "code",
      "execution_count": null,
      "id": "eaafcaa0",
      "metadata": {
        "id": "eaafcaa0",
        "outputId": "f4acc6e6-1c54-44cd-a258-63d211eb2d5a"
      },
      "outputs": [
        {
          "data": {
            "text/plain": [
              "<Axes: >"
            ]
          },
          "execution_count": 14,
          "metadata": {},
          "output_type": "execute_result"
        },
        {
          "data": {
            "image/png": "[encoded data removed]",
            "text/plain": [
              "<Figure size 432x288 with 1 Axes>"
            ]
          },
          "metadata": {},
          "output_type": "display_data"
        }
      ],
      "source": [
        "import matplotlib.pyplot as plt\n",
        "import seaborn as sns\n",
        "sns.set()\n",
        "sns.heatmap(df_imputed.isnull(), cbar=False)"
      ]
    },
    {
      "cell_type": "code",
      "execution_count": null,
      "id": "95c3ffe2",
      "metadata": {
        "id": "95c3ffe2"
      },
      "outputs": [],
      "source": []
    }
  ],
  "metadata": {
    "kernelspec": {
      "display_name": "Python 3",
      "language": "python",
      "name": "python3"
    },
    "language_info": {
      "codemirror_mode": {
        "name": "ipython",
        "version": 3
      },
      "file_extension": ".py",
      "mimetype": "text/x-python",
      "name": "python",
      "nbconvert_exporter": "python",
      "pygments_lexer": "ipython3",
      "version": "3.8.8"
    },
    "colab": {
      "provenance": [],
      "include_colab_link": true
    }
  },
  "nbformat": 4,
  "nbformat_minor": 5
}